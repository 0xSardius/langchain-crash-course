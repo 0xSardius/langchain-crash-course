{
 "cells": [
  {
   "cell_type": "markdown",
   "metadata": {},
   "source": [
    "Potential example\n",
    "- https://python.langchain.com/v0.1/docs/use_cases/web_scraping/\n",
    "- ^ uses the old version of LangChain"
   ]
  }
 ],
 "metadata": {
  "language_info": {
   "name": "python"
  }
 },
 "nbformat": 4,
 "nbformat_minor": 2
}
